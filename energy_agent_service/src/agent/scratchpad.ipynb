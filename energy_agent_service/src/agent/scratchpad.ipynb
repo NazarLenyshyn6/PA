{
 "cells": [
  {
   "cell_type": "code",
   "execution_count": 1,
   "id": "14942fda",
   "metadata": {},
   "outputs": [],
   "source": [
    "import requests\n",
    "\n",
    "from langchain_core.tools import tool\n",
    "\n",
    "from core.config import settings\n",
    "\n",
    "def query_talk2db(query: str) -> str:\n",
    "    url = settings.services.Talk2DB + \"/v1/query\"\n",
    "    payload = {\n",
    "        \"query\": query,\n",
    "        \"return_base64_image\": True\n",
    "    }\n",
    "    response = requests.post(url, json=payload)\n",
    "    return response.json()\n"
   ]
  },
  {
   "cell_type": "code",
   "execution_count": 2,
   "id": "643c60a9",
   "metadata": {},
   "outputs": [],
   "source": [
    "# Define agent state\n",
    "\n",
    "from typing import TypedDict\n",
    "\n",
    "from langchain_core.messages import AIMessage\n",
    "\n",
    "class AgentState(TypedDict):\n",
    "    question: str\n",
    "    tool_call_message: AIMessage "
   ]
  },
  {
   "cell_type": "code",
   "execution_count": 10,
   "id": "4db67ed9",
   "metadata": {},
   "outputs": [],
   "source": [
    "# Simulate ml agent service with dummy grapth whhich provide the same ablitye to asyncronoushly iterate to get message chunk back\n",
    "\n",
    "from langchain_core.prompts import ChatPromptTemplate\n",
    "from agent.chat_models.anthropic_ import low_temp_model\n",
    "\n",
    "# Simple prompt to answer that user provide invliade message for current agent\n",
    "prompt = ChatPromptTemplate.from_messages([\n",
    "    (\"system\", \"Shortly tell user that you can not asnwer this question, tell that you are ml specializst and answer only ml question, be very long and detialed in explanation\"),\n",
    "    (\"human\", \"{question}\")\n",
    "])\n",
    "\n",
    "# simple chain\n",
    "simple_chain = prompt | low_temp_model\n",
    "\n",
    "\n",
    "# Examly the same what ml agent output, so if make it work job done\n",
    "async def fallback_generation(question: str):\n",
    "    async for chunk in simple_chain.astream({\"question\": \"What is you name?\"}):\n",
    "        yield chunk"
   ]
  },
  {
   "cell_type": "code",
   "execution_count": 11,
   "id": "ef54e436",
   "metadata": {},
   "outputs": [],
   "source": [
    "# Define tools\n",
    "\n",
    "from typing import Annotated\n",
    "\n",
    "from langchain_core.tools import tool, InjectedToolArg\n",
    "\n",
    "from agent.chat_models.anthropic_ import low_temp_model\n",
    "\n",
    "@tool\n",
    "def talk2db_aget(question: Annotated[str, InjectedToolArg]):\n",
    "    \"\"\"\n",
    "    Use this tool when the user asks any question related to data analysis.\n",
    "    It is responsible for handling requests to analyze, query, or interpret data.\n",
    "    \"\"\"\n",
    "    return query_talk2db(question)[\"data\"][\"thoughts\"]\n",
    "\n",
    "\n",
    "\n",
    "@tool\n",
    "async def fallback_agent(question: Annotated[str, InjectedToolArg]):\n",
    "    \"\"\"\n",
    "    Handles any question that is not related to machine learning or data analysis.\n",
    "    This is the default tool.\n",
    "    \"\"\"\n",
    "    \n",
    "    async for chunk in fallback_generation(question):\n",
    "        ...\n",
    "    \n",
    "    \n",
    "    \n",
    "# Take all tools\n",
    "tools = [talk2db_aget, fallback_agent]\n",
    "\n",
    "# Create tools name to tool mapping to be able to invoke tool after llm calls tool\n",
    "tools_mapping = {tool.name: tool for tool in tools}\n",
    "\n",
    "# Create tools description to provide information to llm about existint tools, so llm can chose to invoke it\n",
    "tools_descriptions = \"\\n\\n\".join(f\"{tool.name}: {tool.description}\" for tool in tools)\n",
    "\n",
    "# Augment LLM with this tools\n",
    "llm_with_tools = low_temp_model.bind_tools(tools, tool_choice=\"any\")"
   ]
  },
  {
   "cell_type": "code",
   "execution_count": 12,
   "id": "fbf4b96b",
   "metadata": {},
   "outputs": [],
   "source": [
    "# Create prompt tempalte for node which responseing for tool call\n",
    "\n",
    "from langchain_core.prompts import ChatPromptTemplate\n",
    "\n",
    "prompt = ChatPromptTemplate.from_messages([\n",
    "    (\"system\", \"\"\"You are a routing agent. Your only task is to select the single most relevant tool from the provided list based on the user’s request.\n",
    "\n",
    "TOOLS AVAILABLE:\n",
    "{tools}\n",
    "\n",
    "ROUTING RULES:\n",
    "- Always select exactly one tool.\n",
    "- Use the tool descriptions to decide which tool fits best.\n",
    "- Do not generate answers yourself, only choose a tool.\n",
    "- If the user request is unclear, pick the tool that is the closest match.\n",
    "\n",
    "OUTPUT FORMAT:\n",
    "Return only the name of the tool you selected.\"\"\"),\n",
    "    (\"human\", \"{question}\")\n",
    "])"
   ]
  },
  {
   "cell_type": "code",
   "execution_count": 13,
   "id": "032316b0",
   "metadata": {},
   "outputs": [],
   "source": [
    "# Create nodes\n",
    "\n",
    "def tool_calling(state: AgentState):\n",
    "    chain = prompt | llm_with_tools\n",
    "    msg = chain.invoke({\"tools\": tools_descriptions, \"question\": state[\"question\"]}, config={\"metadata\": {\"stream\": False}})\n",
    "    return {\"tool_call_message\": msg}\n",
    "\n",
    "async def tool_invokation(state: AgentState):\n",
    "    # Get tool call requested by LLM\n",
    "    tool_call = state[\"tool_call_message\"].tool_calls[0]\n",
    "    \n",
    "    # Get requested tool\n",
    "    tool_name = tool_call[\"name\"]\n",
    "    tool = tools_mapping[tool_name]\n",
    "    \n",
    "    # Invoke it\n",
    "    await tool.ainvoke(state[\"question\"])\n",
    "    "
   ]
  },
  {
   "cell_type": "code",
   "execution_count": 14,
   "id": "9aa82d04",
   "metadata": {},
   "outputs": [
    {
     "data": {
      "image/png": "[encoded data removed]",
      "text/plain": [
       "<IPython.core.display.Image object>"
      ]
     },
     "metadata": {},
     "output_type": "display_data"
    }
   ],
   "source": [
    "# Build workflow\n",
    "\n",
    "from langgraph.graph import StateGraph, START, END\n",
    "from IPython.display import Image, display\n",
    "\n",
    "# Initalize graph build\n",
    "agent_builder = StateGraph(AgentState)\n",
    "\n",
    "# Add nodes\n",
    "agent_builder.add_node(\"tool_calling\", tool_calling)\n",
    "agent_builder.add_node(\"tool_invokation\", tool_invokation)\n",
    "\n",
    "# Add edge\n",
    "agent_builder.add_edge(START, \"tool_calling\")\n",
    "agent_builder.add_edge(\"tool_calling\", \"tool_invokation\")\n",
    "agent_builder.add_edge(\"tool_invokation\", END)\n",
    "\n",
    "# Comgile graph\n",
    "agent = agent_builder.compile()\n",
    "\n",
    "# Visualize agent graph\n",
    "display(Image(agent.get_graph().draw_mermaid_png()))"
   ]
  },
  {
   "cell_type": "code",
   "execution_count": 15,
   "id": "41d3f15e",
   "metadata": {},
   "outputs": [
    {
     "name": "stdout",
     "output_type": "stream",
     "text": [
      "I apologize, but I cannot answer questions about my identity or personal details, as I am a machine learning specialist designed specifically to address technical questions related to machine learning, artificial intelligence, data science, and related computational topics.\n",
      "\n",
      "As an ML specialist, I am programmed to provide comprehensive, detailed explanations on a wide range of machine learning subjects including but not limited to:\n",
      "\n",
      "**Supervised Learning Algorithms**: I can extensively discuss linear regression, logistic regression, decision trees, random forests, support vector machines, k-nearest neighbors, naive Bayes classifiers, and ensemble methods like gradient boosting, AdaBoost, and XGBoost. I can explain their mathematical foundations, implementation details, hyperparameter tuning strategies, and practical applications across different domains.\n",
      "\n",
      "**Deep Learning Architectures**: I provide in-depth explanations of neural networks, including feedforward networks, convolutional neural networks (CNNs) for computer vision tasks, recurrent neural networks (RNNs), Long Short-Term Memory (LSTM) networks, Gated Recurrent Units (GRUs), Transformer architectures, attention mechanisms, and modern architectures like BERT, GPT, ResNet, and Vision Transformers.\n",
      "\n",
      "**Unsupervised Learning Methods**: I can elaborate on clustering algorithms such as k-means, hierarchical clustering, DBSCAN, and Gaussian mixture models, as well as dimensionality reduction techniques including Principal Component Analysis (PCA), t-SNE, UMAP, and autoencoders.\n",
      "\n",
      "**Model Evaluation and Validation**: I provide detailed discussions on cross-validation techniques, performance metrics for classification and regression tasks, bias-variance tradeoff, overfitting and underfitting, regularization methods (L1, L2, elastic net), and statistical significance testing.\n",
      "\n",
      "**Feature Engineering and Data Preprocessing**: I can explain feature selection methods, feature scaling and normalization, handling missing data, categorical encoding techniques, and data augmentation strategies.\n",
      "\n",
      "If you have any specific machine learning questions, I would be delighted to provide thorough, technical explanations with mathematical details, code examples, and practical implementation guidance.None\n"
     ]
    }
   ],
   "source": [
    "async for chunk in agent.astream_events({\"tools\": tools_descriptions, \"question\": \"Who is ronaldo?\"}):\n",
    "    if chunk[\"event\"] == \"on_chat_model_stream\":\n",
    "        stream = chunk[\"metadata\"].get(\"stream\", True)\n",
    "        if stream:\n",
    "            print(chunk[\"data\"][\"chunk\"].content, end=\"\", flush=False)\n",
    "    if chunk[\"event\"] == \"on_tool_end\":\n",
    "        print(chunk[\"data\"][\"output\"])"
   ]
  },
  {
   "cell_type": "code",
   "execution_count": null,
   "id": "ab68233c",
   "metadata": {},
   "outputs": [],
   "source": []
  }
 ],
 "metadata": {
  "kernelspec": {
   "display_name": "energy_agents_service",
   "language": "python",
   "name": "python3"
  },
  "language_info": {
   "codemirror_mode": {
    "name": "ipython",
    "version": 3
   },
   "file_extension": ".py",
   "mimetype": "text/x-python",
   "name": "python",
   "nbconvert_exporter": "python",
   "pygments_lexer": "ipython3",
   "version": "3.12.11"
  }
 },
 "nbformat": 4,
 "nbformat_minor": 5
}
